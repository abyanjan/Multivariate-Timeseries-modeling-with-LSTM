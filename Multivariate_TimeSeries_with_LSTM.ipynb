{
  "nbformat": 4,
  "nbformat_minor": 0,
  "metadata": {
    "colab": {
      "name": "Multivariate_TimeSeries_with_LSTM.ipynb",
      "provenance": [],
      "authorship_tag": "ABX9TyOTk22dN4RsoZU70yk5CmlI",
      "include_colab_link": true
    },
    "kernelspec": {
      "name": "python3",
      "display_name": "Python 3"
    },
    "language_info": {
      "name": "python"
    },
    "accelerator": "GPU"
  },
  "cells": [
    {
      "cell_type": "markdown",
      "metadata": {
        "id": "view-in-github",
        "colab_type": "text"
      },
      "source": [
        "<a href=\"https://colab.research.google.com/github/abyanjan/Multivariate-Timeseries-modeling-with-LSTM/blob/master/Multivariate_TimeSeries_with_LSTM.ipynb\" target=\"_parent\"><img src=\"https://colab.research.google.com/assets/colab-badge.svg\" alt=\"Open In Colab\"/></a>"
      ]
    },
    {
      "cell_type": "markdown",
      "metadata": {
        "id": "LEEJrxIhh7yS"
      },
      "source": [
        "## MULTIVARIATE TIMESERIES MODELING WITH LSTM AND TENSORFLOW"
      ]
    },
    {
      "cell_type": "code",
      "metadata": {
        "id": "zZrYyB0jhsuR"
      },
      "source": [
        "import pandas as pd\n",
        "import matplotlib.pyplot as plt\n",
        "import numpy as np\n",
        "\n",
        "from sklearn.model_selection import train_test_split\n",
        "from sklearn.preprocessing import MinMaxScaler, StandardScaler\n",
        "\n",
        "import tensorflow as tf\n",
        "from tensorflow.keras.preprocessing.sequence import TimeseriesGenerator"
      ],
      "execution_count": null,
      "outputs": []
    },
    {
      "cell_type": "markdown",
      "metadata": {
        "id": "2Jnrkoy6im8G"
      },
      "source": [
        "### DATA\n",
        "\n",
        "The data for the modeling is downloaded from https://archive.ics.uci.edu/ml/machine-learning-databases/00374/energydata_complete.csv\n",
        "\n",
        "The data contains energy consumption of household appliances usage. The data contains information at every 10 mins."
      ]
    },
    {
      "cell_type": "code",
      "metadata": {
        "id": "-tKDcfMAiYtp"
      },
      "source": [
        "# read data\n",
        "#df = pd.read_csv('https://archive.ics.uci.edu/ml/machine-learning-databases/00374/energydata_complete.csv')\n",
        "df = pd.read_csv('https://raw.githubusercontent.com/LuisM78/Appliances-energy-prediction-data/master/energydata_complete.csv')"
      ],
      "execution_count": null,
      "outputs": []
    },
    {
      "cell_type": "code",
      "metadata": {
        "colab": {
          "base_uri": "https://localhost:8080/",
          "height": 395
        },
        "id": "UjBy91hbkQ4q",
        "outputId": "002faa7e-b185-4878-e6c4-d2bc1ea08b76"
      },
      "source": [
        "df.head()"
      ],
      "execution_count": null,
      "outputs": [
        {
          "output_type": "execute_result",
          "data": {
            "text/html": [
              "<div>\n",
              "<style scoped>\n",
              "    .dataframe tbody tr th:only-of-type {\n",
              "        vertical-align: middle;\n",
              "    }\n",
              "\n",
              "    .dataframe tbody tr th {\n",
              "        vertical-align: top;\n",
              "    }\n",
              "\n",
              "    .dataframe thead th {\n",
              "        text-align: right;\n",
              "    }\n",
              "</style>\n",
              "<table border=\"1\" class=\"dataframe\">\n",
              "  <thead>\n",
              "    <tr style=\"text-align: right;\">\n",
              "      <th></th>\n",
              "      <th>date</th>\n",
              "      <th>Appliances</th>\n",
              "      <th>lights</th>\n",
              "      <th>T1</th>\n",
              "      <th>RH_1</th>\n",
              "      <th>T2</th>\n",
              "      <th>RH_2</th>\n",
              "      <th>T3</th>\n",
              "      <th>RH_3</th>\n",
              "      <th>T4</th>\n",
              "      <th>RH_4</th>\n",
              "      <th>T5</th>\n",
              "      <th>RH_5</th>\n",
              "      <th>T6</th>\n",
              "      <th>RH_6</th>\n",
              "      <th>T7</th>\n",
              "      <th>RH_7</th>\n",
              "      <th>T8</th>\n",
              "      <th>RH_8</th>\n",
              "      <th>T9</th>\n",
              "      <th>RH_9</th>\n",
              "      <th>T_out</th>\n",
              "      <th>Press_mm_hg</th>\n",
              "      <th>RH_out</th>\n",
              "      <th>Windspeed</th>\n",
              "      <th>Visibility</th>\n",
              "      <th>Tdewpoint</th>\n",
              "      <th>rv1</th>\n",
              "      <th>rv2</th>\n",
              "    </tr>\n",
              "  </thead>\n",
              "  <tbody>\n",
              "    <tr>\n",
              "      <th>0</th>\n",
              "      <td>2016-01-11 17:00:00</td>\n",
              "      <td>60</td>\n",
              "      <td>30</td>\n",
              "      <td>19.89</td>\n",
              "      <td>47.596667</td>\n",
              "      <td>19.2</td>\n",
              "      <td>44.790000</td>\n",
              "      <td>19.79</td>\n",
              "      <td>44.730000</td>\n",
              "      <td>19.000000</td>\n",
              "      <td>45.566667</td>\n",
              "      <td>17.166667</td>\n",
              "      <td>55.20</td>\n",
              "      <td>7.026667</td>\n",
              "      <td>84.256667</td>\n",
              "      <td>17.200000</td>\n",
              "      <td>41.626667</td>\n",
              "      <td>18.2</td>\n",
              "      <td>48.900000</td>\n",
              "      <td>17.033333</td>\n",
              "      <td>45.53</td>\n",
              "      <td>6.600000</td>\n",
              "      <td>733.5</td>\n",
              "      <td>92.0</td>\n",
              "      <td>7.000000</td>\n",
              "      <td>63.000000</td>\n",
              "      <td>5.3</td>\n",
              "      <td>13.275433</td>\n",
              "      <td>13.275433</td>\n",
              "    </tr>\n",
              "    <tr>\n",
              "      <th>1</th>\n",
              "      <td>2016-01-11 17:10:00</td>\n",
              "      <td>60</td>\n",
              "      <td>30</td>\n",
              "      <td>19.89</td>\n",
              "      <td>46.693333</td>\n",
              "      <td>19.2</td>\n",
              "      <td>44.722500</td>\n",
              "      <td>19.79</td>\n",
              "      <td>44.790000</td>\n",
              "      <td>19.000000</td>\n",
              "      <td>45.992500</td>\n",
              "      <td>17.166667</td>\n",
              "      <td>55.20</td>\n",
              "      <td>6.833333</td>\n",
              "      <td>84.063333</td>\n",
              "      <td>17.200000</td>\n",
              "      <td>41.560000</td>\n",
              "      <td>18.2</td>\n",
              "      <td>48.863333</td>\n",
              "      <td>17.066667</td>\n",
              "      <td>45.56</td>\n",
              "      <td>6.483333</td>\n",
              "      <td>733.6</td>\n",
              "      <td>92.0</td>\n",
              "      <td>6.666667</td>\n",
              "      <td>59.166667</td>\n",
              "      <td>5.2</td>\n",
              "      <td>18.606195</td>\n",
              "      <td>18.606195</td>\n",
              "    </tr>\n",
              "    <tr>\n",
              "      <th>2</th>\n",
              "      <td>2016-01-11 17:20:00</td>\n",
              "      <td>50</td>\n",
              "      <td>30</td>\n",
              "      <td>19.89</td>\n",
              "      <td>46.300000</td>\n",
              "      <td>19.2</td>\n",
              "      <td>44.626667</td>\n",
              "      <td>19.79</td>\n",
              "      <td>44.933333</td>\n",
              "      <td>18.926667</td>\n",
              "      <td>45.890000</td>\n",
              "      <td>17.166667</td>\n",
              "      <td>55.09</td>\n",
              "      <td>6.560000</td>\n",
              "      <td>83.156667</td>\n",
              "      <td>17.200000</td>\n",
              "      <td>41.433333</td>\n",
              "      <td>18.2</td>\n",
              "      <td>48.730000</td>\n",
              "      <td>17.000000</td>\n",
              "      <td>45.50</td>\n",
              "      <td>6.366667</td>\n",
              "      <td>733.7</td>\n",
              "      <td>92.0</td>\n",
              "      <td>6.333333</td>\n",
              "      <td>55.333333</td>\n",
              "      <td>5.1</td>\n",
              "      <td>28.642668</td>\n",
              "      <td>28.642668</td>\n",
              "    </tr>\n",
              "    <tr>\n",
              "      <th>3</th>\n",
              "      <td>2016-01-11 17:30:00</td>\n",
              "      <td>50</td>\n",
              "      <td>40</td>\n",
              "      <td>19.89</td>\n",
              "      <td>46.066667</td>\n",
              "      <td>19.2</td>\n",
              "      <td>44.590000</td>\n",
              "      <td>19.79</td>\n",
              "      <td>45.000000</td>\n",
              "      <td>18.890000</td>\n",
              "      <td>45.723333</td>\n",
              "      <td>17.166667</td>\n",
              "      <td>55.09</td>\n",
              "      <td>6.433333</td>\n",
              "      <td>83.423333</td>\n",
              "      <td>17.133333</td>\n",
              "      <td>41.290000</td>\n",
              "      <td>18.1</td>\n",
              "      <td>48.590000</td>\n",
              "      <td>17.000000</td>\n",
              "      <td>45.40</td>\n",
              "      <td>6.250000</td>\n",
              "      <td>733.8</td>\n",
              "      <td>92.0</td>\n",
              "      <td>6.000000</td>\n",
              "      <td>51.500000</td>\n",
              "      <td>5.0</td>\n",
              "      <td>45.410389</td>\n",
              "      <td>45.410389</td>\n",
              "    </tr>\n",
              "    <tr>\n",
              "      <th>4</th>\n",
              "      <td>2016-01-11 17:40:00</td>\n",
              "      <td>60</td>\n",
              "      <td>40</td>\n",
              "      <td>19.89</td>\n",
              "      <td>46.333333</td>\n",
              "      <td>19.2</td>\n",
              "      <td>44.530000</td>\n",
              "      <td>19.79</td>\n",
              "      <td>45.000000</td>\n",
              "      <td>18.890000</td>\n",
              "      <td>45.530000</td>\n",
              "      <td>17.200000</td>\n",
              "      <td>55.09</td>\n",
              "      <td>6.366667</td>\n",
              "      <td>84.893333</td>\n",
              "      <td>17.200000</td>\n",
              "      <td>41.230000</td>\n",
              "      <td>18.1</td>\n",
              "      <td>48.590000</td>\n",
              "      <td>17.000000</td>\n",
              "      <td>45.40</td>\n",
              "      <td>6.133333</td>\n",
              "      <td>733.9</td>\n",
              "      <td>92.0</td>\n",
              "      <td>5.666667</td>\n",
              "      <td>47.666667</td>\n",
              "      <td>4.9</td>\n",
              "      <td>10.084097</td>\n",
              "      <td>10.084097</td>\n",
              "    </tr>\n",
              "  </tbody>\n",
              "</table>\n",
              "</div>"
            ],
            "text/plain": [
              "                  date  Appliances  lights  ...  Tdewpoint        rv1        rv2\n",
              "0  2016-01-11 17:00:00          60      30  ...        5.3  13.275433  13.275433\n",
              "1  2016-01-11 17:10:00          60      30  ...        5.2  18.606195  18.606195\n",
              "2  2016-01-11 17:20:00          50      30  ...        5.1  28.642668  28.642668\n",
              "3  2016-01-11 17:30:00          50      40  ...        5.0  45.410389  45.410389\n",
              "4  2016-01-11 17:40:00          60      40  ...        4.9  10.084097  10.084097\n",
              "\n",
              "[5 rows x 29 columns]"
            ]
          },
          "metadata": {
            "tags": []
          },
          "execution_count": 5
        }
      ]
    },
    {
      "cell_type": "code",
      "metadata": {
        "colab": {
          "base_uri": "https://localhost:8080/"
        },
        "id": "VfHhEzUzqVrB",
        "outputId": "6f8bc8bb-1189-489f-cae0-6a9fac7ae222"
      },
      "source": [
        "# data size\n",
        "df.shape"
      ],
      "execution_count": null,
      "outputs": [
        {
          "output_type": "execute_result",
          "data": {
            "text/plain": [
              "(19735, 29)"
            ]
          },
          "metadata": {
            "tags": []
          },
          "execution_count": 6
        }
      ]
    },
    {
      "cell_type": "markdown",
      "metadata": {
        "id": "-3Z89AFSqupj"
      },
      "source": [
        "**Columns Description**\n",
        "- date : time year-month-day hour:minute:second\n",
        "- Appliances: energy use in Wh\n",
        "- lights : energy use of light fixtures in the house in Wh\n",
        "- T1: Temperature in kitchen area, in Celsius\n",
        "- RH1: Humidity in kitchen area, in % T2, Temperature in living room area, in  Celsius \n",
        "- RH2: Humidity in living room area, in %\n",
        "- T3: Temperature in laundry room area\n",
        "- RH3: Humidity in laundry room area, in % \n",
        "- T4: Temperature in office room, in Celsius \n",
        "- RH4: Humidity in office room, in %\n",
        "- T5: Temperature in bathroom, in Celsius\n",
        "- RH5: Humidity in bathroom, in % \n",
        "- T6: Temperature outside the building (north side), in Celsius \n",
        "- RH6: Humidity outside the building (north side), in %\n",
        "- T7: Temperature in ironing room , in Celsius\n",
        "- RH7: Humidity in ironing room, in % \n",
        "- T8: Temperature in teenager room 2, in Celsius \n",
        "- RH8: Humidity in teenager room 2, in %\n",
        "- T9: Temperature in parents room, in Celsius\n",
        "- RH9: Humidity in parents room, in % \n",
        "- T_out: Temperature outside (from Chievres weather station), in Celsius\n",
        "- Press_mm_hg : Presuure(from Chievres weather station), in mm Hg \n",
        "- RH_out: Humidity outside (from Chievres weather station), in %\n",
        "- Wind speed: (from Chievres weather station), in m/s\n",
        "- Visibility: (from Chievres weather station), in km\n",
        "- Tdewpoint: (from Chievres weather station), Â°C\n",
        "- rv1: Random variable 1, nondimensional\n",
        "- rv2: Random variable 2, nondimensional"
      ]
    },
    {
      "cell_type": "markdown",
      "metadata": {
        "id": "gk2Twzihv0KO"
      },
      "source": [
        "Column Appliances represents the total energy cunsumption. So, it is the target feature we will be predicting."
      ]
    },
    {
      "cell_type": "code",
      "metadata": {
        "colab": {
          "base_uri": "https://localhost:8080/"
        },
        "id": "OAaMHkHKqYLO",
        "outputId": "eaa4e6fd-1dd9-4f2a-b02b-ac75cd463333"
      },
      "source": [
        "# data types\n",
        "df.info()"
      ],
      "execution_count": null,
      "outputs": [
        {
          "output_type": "stream",
          "text": [
            "<class 'pandas.core.frame.DataFrame'>\n",
            "RangeIndex: 19735 entries, 0 to 19734\n",
            "Data columns (total 29 columns):\n",
            " #   Column       Non-Null Count  Dtype  \n",
            "---  ------       --------------  -----  \n",
            " 0   date         19735 non-null  object \n",
            " 1   Appliances   19735 non-null  int64  \n",
            " 2   lights       19735 non-null  int64  \n",
            " 3   T1           19735 non-null  float64\n",
            " 4   RH_1         19735 non-null  float64\n",
            " 5   T2           19735 non-null  float64\n",
            " 6   RH_2         19735 non-null  float64\n",
            " 7   T3           19735 non-null  float64\n",
            " 8   RH_3         19735 non-null  float64\n",
            " 9   T4           19735 non-null  float64\n",
            " 10  RH_4         19735 non-null  float64\n",
            " 11  T5           19735 non-null  float64\n",
            " 12  RH_5         19735 non-null  float64\n",
            " 13  T6           19735 non-null  float64\n",
            " 14  RH_6         19735 non-null  float64\n",
            " 15  T7           19735 non-null  float64\n",
            " 16  RH_7         19735 non-null  float64\n",
            " 17  T8           19735 non-null  float64\n",
            " 18  RH_8         19735 non-null  float64\n",
            " 19  T9           19735 non-null  float64\n",
            " 20  RH_9         19735 non-null  float64\n",
            " 21  T_out        19735 non-null  float64\n",
            " 22  Press_mm_hg  19735 non-null  float64\n",
            " 23  RH_out       19735 non-null  float64\n",
            " 24  Windspeed    19735 non-null  float64\n",
            " 25  Visibility   19735 non-null  float64\n",
            " 26  Tdewpoint    19735 non-null  float64\n",
            " 27  rv1          19735 non-null  float64\n",
            " 28  rv2          19735 non-null  float64\n",
            "dtypes: float64(26), int64(2), object(1)\n",
            "memory usage: 4.4+ MB\n"
          ],
          "name": "stdout"
        }
      ]
    },
    {
      "cell_type": "code",
      "metadata": {
        "id": "-1dbE5lKtN5m"
      },
      "source": [
        "# converting date to date time format\n",
        "df['date'] = pd.to_datetime(df['date'], infer_datetime_format=True)"
      ],
      "execution_count": null,
      "outputs": []
    },
    {
      "cell_type": "markdown",
      "metadata": {
        "id": "ohEMiVDTtlLq"
      },
      "source": [
        "**Visualizing**  \n",
        "\n",
        "Visualizing some of the columns in the data."
      ]
    },
    {
      "cell_type": "code",
      "metadata": {
        "colab": {
          "base_uri": "https://localhost:8080/",
          "height": 573
        },
        "id": "j2wNVjO4tdDa",
        "outputId": "79f596fc-8339-4dec-cbc5-2b1e7191b679"
      },
      "source": [
        "df.set_index('date')[['Appliances', 'lights','T_out', 'RH_1', 'Visibility']].plot(subplots=True, figsize=(15,10));"
      ],
      "execution_count": null,
      "outputs": [
        {
          "output_type": "display_data",
          "data": {
            "image/png": "[encoded data removed]",
            "text/plain": [
              "<Figure size 1080x720 with 5 Axes>"
            ]
          },
          "metadata": {
            "tags": [],
            "needs_background": "light"
          }
        }
      ]
    },
    {
      "cell_type": "code",
      "metadata": {
        "id": "qREIT6iPt52_"
      },
      "source": [
        ""
      ],
      "execution_count": null,
      "outputs": []
    },
    {
      "cell_type": "markdown",
      "metadata": {
        "id": "YewScxKEudIP"
      },
      "source": [
        "**SubSetting Data for the Modeling**"
      ]
    },
    {
      "cell_type": "code",
      "metadata": {
        "colab": {
          "base_uri": "https://localhost:8080/",
          "height": 355
        },
        "id": "pUVBQGZquhoz",
        "outputId": "2f5b270a-e4fc-44a2-cdb7-c235aa144cea"
      },
      "source": [
        "df_input = df[['Appliances','T_out', 'RH_1', 'Visibility']]\n",
        "df_input.head(10)"
      ],
      "execution_count": null,
      "outputs": [
        {
          "output_type": "execute_result",
          "data": {
            "text/html": [
              "<div>\n",
              "<style scoped>\n",
              "    .dataframe tbody tr th:only-of-type {\n",
              "        vertical-align: middle;\n",
              "    }\n",
              "\n",
              "    .dataframe tbody tr th {\n",
              "        vertical-align: top;\n",
              "    }\n",
              "\n",
              "    .dataframe thead th {\n",
              "        text-align: right;\n",
              "    }\n",
              "</style>\n",
              "<table border=\"1\" class=\"dataframe\">\n",
              "  <thead>\n",
              "    <tr style=\"text-align: right;\">\n",
              "      <th></th>\n",
              "      <th>Appliances</th>\n",
              "      <th>T_out</th>\n",
              "      <th>RH_1</th>\n",
              "      <th>Visibility</th>\n",
              "    </tr>\n",
              "  </thead>\n",
              "  <tbody>\n",
              "    <tr>\n",
              "      <th>0</th>\n",
              "      <td>60</td>\n",
              "      <td>6.600000</td>\n",
              "      <td>47.596667</td>\n",
              "      <td>63.000000</td>\n",
              "    </tr>\n",
              "    <tr>\n",
              "      <th>1</th>\n",
              "      <td>60</td>\n",
              "      <td>6.483333</td>\n",
              "      <td>46.693333</td>\n",
              "      <td>59.166667</td>\n",
              "    </tr>\n",
              "    <tr>\n",
              "      <th>2</th>\n",
              "      <td>50</td>\n",
              "      <td>6.366667</td>\n",
              "      <td>46.300000</td>\n",
              "      <td>55.333333</td>\n",
              "    </tr>\n",
              "    <tr>\n",
              "      <th>3</th>\n",
              "      <td>50</td>\n",
              "      <td>6.250000</td>\n",
              "      <td>46.066667</td>\n",
              "      <td>51.500000</td>\n",
              "    </tr>\n",
              "    <tr>\n",
              "      <th>4</th>\n",
              "      <td>60</td>\n",
              "      <td>6.133333</td>\n",
              "      <td>46.333333</td>\n",
              "      <td>47.666667</td>\n",
              "    </tr>\n",
              "    <tr>\n",
              "      <th>5</th>\n",
              "      <td>50</td>\n",
              "      <td>6.016667</td>\n",
              "      <td>46.026667</td>\n",
              "      <td>43.833333</td>\n",
              "    </tr>\n",
              "    <tr>\n",
              "      <th>6</th>\n",
              "      <td>60</td>\n",
              "      <td>5.900000</td>\n",
              "      <td>45.766667</td>\n",
              "      <td>40.000000</td>\n",
              "    </tr>\n",
              "    <tr>\n",
              "      <th>7</th>\n",
              "      <td>60</td>\n",
              "      <td>5.916667</td>\n",
              "      <td>45.560000</td>\n",
              "      <td>40.000000</td>\n",
              "    </tr>\n",
              "    <tr>\n",
              "      <th>8</th>\n",
              "      <td>60</td>\n",
              "      <td>5.933333</td>\n",
              "      <td>45.597500</td>\n",
              "      <td>40.000000</td>\n",
              "    </tr>\n",
              "    <tr>\n",
              "      <th>9</th>\n",
              "      <td>70</td>\n",
              "      <td>5.950000</td>\n",
              "      <td>46.090000</td>\n",
              "      <td>40.000000</td>\n",
              "    </tr>\n",
              "  </tbody>\n",
              "</table>\n",
              "</div>"
            ],
            "text/plain": [
              "   Appliances     T_out       RH_1  Visibility\n",
              "0          60  6.600000  47.596667   63.000000\n",
              "1          60  6.483333  46.693333   59.166667\n",
              "2          50  6.366667  46.300000   55.333333\n",
              "3          50  6.250000  46.066667   51.500000\n",
              "4          60  6.133333  46.333333   47.666667\n",
              "5          50  6.016667  46.026667   43.833333\n",
              "6          60  5.900000  45.766667   40.000000\n",
              "7          60  5.916667  45.560000   40.000000\n",
              "8          60  5.933333  45.597500   40.000000\n",
              "9          70  5.950000  46.090000   40.000000"
            ]
          },
          "metadata": {
            "tags": []
          },
          "execution_count": 5
        }
      ]
    },
    {
      "cell_type": "code",
      "metadata": {
        "colab": {
          "base_uri": "https://localhost:8080/",
          "height": 294
        },
        "id": "RK--OODSuoWB",
        "outputId": "2986c206-02f8-4d52-b0cd-4d79fc9bca57"
      },
      "source": [
        "df_input.describe()"
      ],
      "execution_count": null,
      "outputs": [
        {
          "output_type": "execute_result",
          "data": {
            "text/html": [
              "<div>\n",
              "<style scoped>\n",
              "    .dataframe tbody tr th:only-of-type {\n",
              "        vertical-align: middle;\n",
              "    }\n",
              "\n",
              "    .dataframe tbody tr th {\n",
              "        vertical-align: top;\n",
              "    }\n",
              "\n",
              "    .dataframe thead th {\n",
              "        text-align: right;\n",
              "    }\n",
              "</style>\n",
              "<table border=\"1\" class=\"dataframe\">\n",
              "  <thead>\n",
              "    <tr style=\"text-align: right;\">\n",
              "      <th></th>\n",
              "      <th>Appliances</th>\n",
              "      <th>T_out</th>\n",
              "      <th>RH_1</th>\n",
              "      <th>Visibility</th>\n",
              "    </tr>\n",
              "  </thead>\n",
              "  <tbody>\n",
              "    <tr>\n",
              "      <th>count</th>\n",
              "      <td>19735.000000</td>\n",
              "      <td>19735.000000</td>\n",
              "      <td>19735.000000</td>\n",
              "      <td>19735.000000</td>\n",
              "    </tr>\n",
              "    <tr>\n",
              "      <th>mean</th>\n",
              "      <td>97.694958</td>\n",
              "      <td>7.411665</td>\n",
              "      <td>40.259739</td>\n",
              "      <td>38.330834</td>\n",
              "    </tr>\n",
              "    <tr>\n",
              "      <th>std</th>\n",
              "      <td>102.524891</td>\n",
              "      <td>5.317409</td>\n",
              "      <td>3.979299</td>\n",
              "      <td>11.794719</td>\n",
              "    </tr>\n",
              "    <tr>\n",
              "      <th>min</th>\n",
              "      <td>10.000000</td>\n",
              "      <td>-5.000000</td>\n",
              "      <td>27.023333</td>\n",
              "      <td>1.000000</td>\n",
              "    </tr>\n",
              "    <tr>\n",
              "      <th>25%</th>\n",
              "      <td>50.000000</td>\n",
              "      <td>3.666667</td>\n",
              "      <td>37.333333</td>\n",
              "      <td>29.000000</td>\n",
              "    </tr>\n",
              "    <tr>\n",
              "      <th>50%</th>\n",
              "      <td>60.000000</td>\n",
              "      <td>6.916667</td>\n",
              "      <td>39.656667</td>\n",
              "      <td>40.000000</td>\n",
              "    </tr>\n",
              "    <tr>\n",
              "      <th>75%</th>\n",
              "      <td>100.000000</td>\n",
              "      <td>10.408333</td>\n",
              "      <td>43.066667</td>\n",
              "      <td>40.000000</td>\n",
              "    </tr>\n",
              "    <tr>\n",
              "      <th>max</th>\n",
              "      <td>1080.000000</td>\n",
              "      <td>26.100000</td>\n",
              "      <td>63.360000</td>\n",
              "      <td>66.000000</td>\n",
              "    </tr>\n",
              "  </tbody>\n",
              "</table>\n",
              "</div>"
            ],
            "text/plain": [
              "         Appliances         T_out          RH_1    Visibility\n",
              "count  19735.000000  19735.000000  19735.000000  19735.000000\n",
              "mean      97.694958      7.411665     40.259739     38.330834\n",
              "std      102.524891      5.317409      3.979299     11.794719\n",
              "min       10.000000     -5.000000     27.023333      1.000000\n",
              "25%       50.000000      3.666667     37.333333     29.000000\n",
              "50%       60.000000      6.916667     39.656667     40.000000\n",
              "75%      100.000000     10.408333     43.066667     40.000000\n",
              "max     1080.000000     26.100000     63.360000     66.000000"
            ]
          },
          "metadata": {
            "tags": []
          },
          "execution_count": 6
        }
      ]
    },
    {
      "cell_type": "markdown",
      "metadata": {
        "id": "tuLZTai-vTod"
      },
      "source": [
        "**Train Test Split**"
      ]
    },
    {
      "cell_type": "code",
      "metadata": {
        "id": "t4zj7rqwvtom"
      },
      "source": [
        "# separating target and features\n",
        "#target = df_input[\"Appliances\"]"
      ],
      "execution_count": null,
      "outputs": []
    },
    {
      "cell_type": "code",
      "metadata": {
        "id": "EcPtRsheuvJm"
      },
      "source": [
        "# train_test split\n",
        "x_train, x_test = train_test_split(df_input, test_size=0.20, random_state=123, shuffle = False)"
      ],
      "execution_count": null,
      "outputs": []
    },
    {
      "cell_type": "code",
      "metadata": {
        "colab": {
          "base_uri": "https://localhost:8080/"
        },
        "id": "WgpFxZfFwcvb",
        "outputId": "7ef84856-1fea-41d3-da94-c3f2cc67a7b1"
      },
      "source": [
        "x_train.shape, x_test.shape"
      ],
      "execution_count": null,
      "outputs": [
        {
          "output_type": "execute_result",
          "data": {
            "text/plain": [
              "((15788, 4), (3947, 4))"
            ]
          },
          "metadata": {
            "tags": []
          },
          "execution_count": 29
        }
      ]
    },
    {
      "cell_type": "code",
      "metadata": {
        "colab": {
          "base_uri": "https://localhost:8080/"
        },
        "id": "-wlYcQc6wgxc",
        "outputId": "0a4cd104-dda6-4ddb-8988-05e85ff03ba5"
      },
      "source": [
        "# scaling the data\n",
        "scaler = MinMaxScaler()\n",
        "scaler.fit(x_train)"
      ],
      "execution_count": null,
      "outputs": [
        {
          "output_type": "execute_result",
          "data": {
            "text/plain": [
              "MinMaxScaler(copy=True, feature_range=(0, 1))"
            ]
          },
          "metadata": {
            "tags": []
          },
          "execution_count": 30
        }
      ]
    },
    {
      "cell_type": "code",
      "metadata": {
        "id": "sqOC3lXXwq7X"
      },
      "source": [
        "# transform data\n",
        "x_train = scaler.transform(x_train)\n",
        "x_test = scaler.transform(x_test)"
      ],
      "execution_count": null,
      "outputs": []
    },
    {
      "cell_type": "code",
      "metadata": {
        "id": "RaDKnRYoxAyV"
      },
      "source": [
        "# get the traget , which is the Appliances, that is the first column\n",
        "y_train = x_train[:,0]\n",
        "y_test = x_test[:,0]"
      ],
      "execution_count": null,
      "outputs": []
    },
    {
      "cell_type": "markdown",
      "metadata": {
        "id": "i-oNGe1ExFas"
      },
      "source": [
        "### Modeling Time Series with LSTM"
      ]
    },
    {
      "cell_type": "markdown",
      "metadata": {
        "id": "s5yfYFf4yWR2"
      },
      "source": [
        "**Creating Time Series Generator**"
      ]
    },
    {
      "cell_type": "code",
      "metadata": {
        "id": "VokVbqacxJxO"
      },
      "source": [
        "# taking 5 days of data as sequence input to predict the next output\n",
        "# the data has information on every 10 mins so for 5 days the time length \n",
        "# becomes 720 (= 6 * 24 *5 )\n",
        "\n",
        "win_length=720\n",
        "\n",
        "batch_size=32\n",
        "num_features=4\n",
        "\n",
        "train_generator = TimeseriesGenerator(x_train, y_train, length=win_length, sampling_rate=1, batch_size=batch_size)\n",
        "test_generator = TimeseriesGenerator(x_test, y_test, length=win_length, sampling_rate=1, batch_size=batch_size)"
      ],
      "execution_count": null,
      "outputs": []
    },
    {
      "cell_type": "code",
      "metadata": {
        "colab": {
          "base_uri": "https://localhost:8080/"
        },
        "id": "ZVazKlh5zDud",
        "outputId": "b7d1180f-25ba-426c-b628-1fc120b002d1"
      },
      "source": [
        "# example of a train generator\n",
        "train_generator[0]"
      ],
      "execution_count": null,
      "outputs": [
        {
          "output_type": "execute_result",
          "data": {
            "text/plain": [
              "(array([[[0.04672897, 0.46963563, 0.55754117, 0.95384615],\n",
              "         [0.04672897, 0.46491228, 0.53218563, 0.89487179],\n",
              "         [0.03738318, 0.46018893, 0.52114521, 0.83589744],\n",
              "         ...,\n",
              "         [0.06542056, 0.31781377, 0.30220808, 0.79230769],\n",
              "         [0.05607477, 0.30094467, 0.2994012 , 0.72820513],\n",
              "         [0.06542056, 0.28407557, 0.29734281, 0.66410256]],\n",
              " \n",
              "        [[0.04672897, 0.46491228, 0.53218563, 0.89487179],\n",
              "         [0.03738318, 0.46018893, 0.52114521, 0.83589744],\n",
              "         [0.03738318, 0.45546559, 0.51459581, 0.77692308],\n",
              "         ...,\n",
              "         [0.05607477, 0.30094467, 0.2994012 , 0.72820513],\n",
              "         [0.06542056, 0.28407557, 0.29734281, 0.66410256],\n",
              "         [0.06542056, 0.26720648, 0.29547156, 0.6       ]],\n",
              " \n",
              "        [[0.03738318, 0.46018893, 0.52114521, 0.83589744],\n",
              "         [0.03738318, 0.45546559, 0.51459581, 0.77692308],\n",
              "         [0.04672897, 0.45074224, 0.52208084, 0.71794872],\n",
              "         ...,\n",
              "         [0.06542056, 0.28407557, 0.29734281, 0.66410256],\n",
              "         [0.06542056, 0.26720648, 0.29547156, 0.6       ],\n",
              "         [0.13084112, 0.27327935, 0.29172904, 0.6       ]],\n",
              " \n",
              "        ...,\n",
              " \n",
              "        [[0.08411215, 0.43184885, 0.49401198, 0.6       ],\n",
              "         [0.09345794, 0.4291498 , 0.48821108, 0.6       ],\n",
              "         [0.36448598, 0.43117409, 0.48372006, 0.6       ],\n",
              "         ...,\n",
              "         [0.08411215, 0.21997301, 0.30782186, 0.24615385],\n",
              "         [0.09345794, 0.22064777, 0.30389222, 0.26923077],\n",
              "         [0.09345794, 0.22132254, 0.30033683, 0.29230769]],\n",
              " \n",
              "        [[0.09345794, 0.4291498 , 0.48821108, 0.6       ],\n",
              "         [0.36448598, 0.43117409, 0.48372006, 0.6       ],\n",
              "         [0.36448598, 0.43319838, 0.47810629, 0.6       ],\n",
              "         ...,\n",
              "         [0.09345794, 0.22064777, 0.30389222, 0.26923077],\n",
              "         [0.09345794, 0.22132254, 0.30033683, 0.29230769],\n",
              "         [0.1682243 , 0.2219973 , 0.29837201, 0.31538462]],\n",
              " \n",
              "        [[0.36448598, 0.43117409, 0.48372006, 0.6       ],\n",
              "         [0.36448598, 0.43319838, 0.47810629, 0.6       ],\n",
              "         [0.35514019, 0.43522267, 0.47230539, 0.6       ],\n",
              "         ...,\n",
              "         [0.09345794, 0.22132254, 0.30033683, 0.29230769],\n",
              "         [0.1682243 , 0.2219973 , 0.29837201, 0.31538462],\n",
              "         [0.41121495, 0.22267206, 0.29631362, 0.33846154]]]),\n",
              " array([0.06542056, 0.13084112, 0.34579439, 0.26168224, 0.24299065,\n",
              "        0.38317757, 0.25233645, 0.27102804, 0.31775701, 0.24299065,\n",
              "        0.51401869, 1.        , 0.69158879, 0.35514019, 0.31775701,\n",
              "        0.30841121, 0.26168224, 0.20560748, 0.10280374, 0.09345794,\n",
              "        0.08411215, 0.09345794, 0.11214953, 0.12149533, 0.09345794,\n",
              "        0.08411215, 0.08411215, 0.09345794, 0.09345794, 0.1682243 ,\n",
              "        0.41121495, 0.18691589]))"
            ]
          },
          "metadata": {
            "tags": []
          },
          "execution_count": 34
        }
      ]
    },
    {
      "cell_type": "code",
      "metadata": {
        "id": "b2ALKaeOzFcA"
      },
      "source": [
        "# Defining LSTM model\n",
        "model = tf.keras.Sequential()\n",
        "model.add(tf.keras.layers.LSTM(128, input_shape= (win_length, num_features), return_sequences=True))\n",
        "model.add(tf.keras.layers.LeakyReLU(alpha=0.5)) \n",
        "model.add(tf.keras.layers.LSTM(128, return_sequences=True))\n",
        "model.add(tf.keras.layers.LeakyReLU(alpha=0.5)) \n",
        "model.add(tf.keras.layers.Dropout(0.3)) \n",
        "model.add(tf.keras.layers.LSTM(64, return_sequences=False))\n",
        "model.add(tf.keras.layers.Dropout(0.3)) \n",
        "model.add(tf.keras.layers.Dense(1))"
      ],
      "execution_count": null,
      "outputs": []
    },
    {
      "cell_type": "code",
      "metadata": {
        "colab": {
          "base_uri": "https://localhost:8080/"
        },
        "id": "YkTZiRNaz0uX",
        "outputId": "b9933d54-d0d3-4a14-a3e2-f7d926281c7f"
      },
      "source": [
        "model.summary()"
      ],
      "execution_count": null,
      "outputs": [
        {
          "output_type": "stream",
          "text": [
            "Model: \"sequential_3\"\n",
            "_________________________________________________________________\n",
            "Layer (type)                 Output Shape              Param #   \n",
            "=================================================================\n",
            "lstm_9 (LSTM)                (None, 720, 128)          68096     \n",
            "_________________________________________________________________\n",
            "leaky_re_lu_6 (LeakyReLU)    (None, 720, 128)          0         \n",
            "_________________________________________________________________\n",
            "lstm_10 (LSTM)               (None, 720, 128)          131584    \n",
            "_________________________________________________________________\n",
            "leaky_re_lu_7 (LeakyReLU)    (None, 720, 128)          0         \n",
            "_________________________________________________________________\n",
            "dropout_6 (Dropout)          (None, 720, 128)          0         \n",
            "_________________________________________________________________\n",
            "lstm_11 (LSTM)               (None, 64)                49408     \n",
            "_________________________________________________________________\n",
            "dropout_7 (Dropout)          (None, 64)                0         \n",
            "_________________________________________________________________\n",
            "dense_3 (Dense)              (None, 1)                 65        \n",
            "=================================================================\n",
            "Total params: 249,153\n",
            "Trainable params: 249,153\n",
            "Non-trainable params: 0\n",
            "_________________________________________________________________\n"
          ],
          "name": "stdout"
        }
      ]
    },
    {
      "cell_type": "code",
      "metadata": {
        "id": "HwR5qjapz3lH"
      },
      "source": [
        "# compile the model\n",
        "early_stopping = tf.keras.callbacks.EarlyStopping(monitor='val_loss',\n",
        "                                                    patience=2,\n",
        "                                                    mode='min')\n",
        "\n",
        "model.compile(loss=tf.losses.MeanSquaredError(),\n",
        "              optimizer=tf.optimizers.Adam(),\n",
        "              metrics=[tf.metrics.MeanAbsoluteError()])"
      ],
      "execution_count": null,
      "outputs": []
    },
    {
      "cell_type": "code",
      "metadata": {
        "colab": {
          "base_uri": "https://localhost:8080/"
        },
        "id": "TV9r18QPz_MH",
        "outputId": "895b13ce-b340-4314-e660-3d522fa45db5"
      },
      "source": [
        "# train the model\n",
        "history = model.fit_generator(train_generator, epochs=50,\n",
        "                    validation_data=test_generator,\n",
        "                    shuffle=False,\n",
        "                    callbacks=[early_stopping])"
      ],
      "execution_count": null,
      "outputs": [
        {
          "output_type": "stream",
          "text": [
            "/usr/local/lib/python3.7/dist-packages/tensorflow/python/keras/engine/training.py:1844: UserWarning: `Model.fit_generator` is deprecated and will be removed in a future version. Please use `Model.fit`, which supports generators.\n",
            "  warnings.warn('`Model.fit_generator` is deprecated and '\n"
          ],
          "name": "stderr"
        },
        {
          "output_type": "stream",
          "text": [
            "Epoch 1/50\n",
            "471/471 [==============================] - 44s 86ms/step - loss: 0.0116 - mean_absolute_error: 0.0624 - val_loss: 0.0060 - val_mean_absolute_error: 0.0529\n",
            "Epoch 2/50\n",
            "471/471 [==============================] - 40s 84ms/step - loss: 0.0087 - mean_absolute_error: 0.0505 - val_loss: 0.0045 - val_mean_absolute_error: 0.0390\n",
            "Epoch 3/50\n",
            "471/471 [==============================] - 39s 84ms/step - loss: 0.0060 - mean_absolute_error: 0.0400 - val_loss: 0.0033 - val_mean_absolute_error: 0.0286\n",
            "Epoch 4/50\n",
            "471/471 [==============================] - 40s 84ms/step - loss: 0.0049 - mean_absolute_error: 0.0345 - val_loss: 0.0033 - val_mean_absolute_error: 0.0322\n",
            "Epoch 5/50\n",
            "471/471 [==============================] - 40s 84ms/step - loss: 0.0047 - mean_absolute_error: 0.0333 - val_loss: 0.0032 - val_mean_absolute_error: 0.0290\n",
            "Epoch 6/50\n",
            "471/471 [==============================] - 40s 84ms/step - loss: 0.0046 - mean_absolute_error: 0.0334 - val_loss: 0.0033 - val_mean_absolute_error: 0.0305\n",
            "Epoch 7/50\n",
            "471/471 [==============================] - 40s 85ms/step - loss: 0.0045 - mean_absolute_error: 0.0330 - val_loss: 0.0032 - val_mean_absolute_error: 0.0288\n",
            "Epoch 8/50\n",
            "471/471 [==============================] - 40s 84ms/step - loss: 0.0045 - mean_absolute_error: 0.0329 - val_loss: 0.0032 - val_mean_absolute_error: 0.0280\n",
            "Epoch 9/50\n",
            "471/471 [==============================] - 40s 84ms/step - loss: 0.0045 - mean_absolute_error: 0.0327 - val_loss: 0.0032 - val_mean_absolute_error: 0.0277\n",
            "Epoch 10/50\n",
            "471/471 [==============================] - 40s 84ms/step - loss: 0.0045 - mean_absolute_error: 0.0327 - val_loss: 0.0032 - val_mean_absolute_error: 0.0292\n",
            "Epoch 11/50\n",
            "471/471 [==============================] - 40s 84ms/step - loss: 0.0045 - mean_absolute_error: 0.0327 - val_loss: 0.0032 - val_mean_absolute_error: 0.0276\n"
          ],
          "name": "stdout"
        }
      ]
    },
    {
      "cell_type": "code",
      "metadata": {
        "colab": {
          "base_uri": "https://localhost:8080/"
        },
        "id": "hk0PT7RW1MDt",
        "outputId": "4ffacb7b-4b41-44d9-b2f2-8f0072f0489d"
      },
      "source": [
        "# evaluation on test data\n",
        "loss, mae = model.evaluate(test_generator)\n",
        "print(f'loss:{loss}')\n",
        "print(f'MAE:{mae}')"
      ],
      "execution_count": null,
      "outputs": [
        {
          "output_type": "stream",
          "text": [
            "101/101 [==============================] - 4s 35ms/step - loss: 0.0032 - mean_absolute_error: 0.0276\n",
            "loss:0.0031918776221573353\n",
            "MAE:0.027597645297646523\n"
          ],
          "name": "stdout"
        }
      ]
    },
    {
      "cell_type": "code",
      "metadata": {
        "colab": {
          "base_uri": "https://localhost:8080/"
        },
        "id": "obC8EBa34aUi",
        "outputId": "e1d35e08-19c9-4e36-81cf-27507783653f"
      },
      "source": [
        "# make predictions\n",
        "preds = model.predict(test_generator)\n",
        "preds"
      ],
      "execution_count": null,
      "outputs": [
        {
          "output_type": "execute_result",
          "data": {
            "text/plain": [
              "array([[0.06853656],\n",
              "       [0.09934511],\n",
              "       [0.12182746],\n",
              "       ...,\n",
              "       [0.08585144],\n",
              "       [0.26965034],\n",
              "       [0.2618147 ]], dtype=float32)"
            ]
          },
          "metadata": {
            "tags": []
          },
          "execution_count": 43
        }
      ]
    },
    {
      "cell_type": "code",
      "metadata": {
        "colab": {
          "base_uri": "https://localhost:8080/"
        },
        "id": "lP23Hass4zeL",
        "outputId": "331de9e3-7913-4a20-eca8-859616d1e6cc"
      },
      "source": [
        "preds.shape"
      ],
      "execution_count": null,
      "outputs": [
        {
          "output_type": "execute_result",
          "data": {
            "text/plain": [
              "(3227, 1)"
            ]
          },
          "metadata": {
            "tags": []
          },
          "execution_count": 44
        }
      ]
    },
    {
      "cell_type": "code",
      "metadata": {
        "colab": {
          "base_uri": "https://localhost:8080/"
        },
        "id": "TnmXKO5a451E",
        "outputId": "d99136e3-697b-4a65-fe12-a38b144c4f9b"
      },
      "source": [
        "x_test.shape"
      ],
      "execution_count": null,
      "outputs": [
        {
          "output_type": "execute_result",
          "data": {
            "text/plain": [
              "(3947, 4)"
            ]
          },
          "metadata": {
            "tags": []
          },
          "execution_count": 45
        }
      ]
    },
    {
      "cell_type": "markdown",
      "metadata": {
        "id": "xeuA1wtR5jQf"
      },
      "source": [
        "We can see that the predictions contains less data points than the test data. It is because the model takes first 720 data points(window length) as the input to predict the next output. So, we will not have any output for the first 720 data points."
      ]
    },
    {
      "cell_type": "code",
      "metadata": {
        "id": "RnKEZYr75eF2"
      },
      "source": [
        "# creating the data set with the inputs and the predicted values\n",
        "# replace the value for Appliances with the predicted values in the test data\n",
        "\n",
        "df_pred = pd.concat([pd.DataFrame(preds),pd.DataFrame(x_test[:,1:][win_length:])], axis = 1)\n",
        "df_pred.columns = df_input.columns"
      ],
      "execution_count": null,
      "outputs": []
    },
    {
      "cell_type": "code",
      "metadata": {
        "colab": {
          "base_uri": "https://localhost:8080/",
          "height": 202
        },
        "id": "iwa1oz8a7tuX",
        "outputId": "ea9dc134-d8bf-4373-b214-975f4c38eb24"
      },
      "source": [
        "df_pred.head()"
      ],
      "execution_count": null,
      "outputs": [
        {
          "output_type": "execute_result",
          "data": {
            "text/html": [
              "<div>\n",
              "<style scoped>\n",
              "    .dataframe tbody tr th:only-of-type {\n",
              "        vertical-align: middle;\n",
              "    }\n",
              "\n",
              "    .dataframe tbody tr th {\n",
              "        vertical-align: top;\n",
              "    }\n",
              "\n",
              "    .dataframe thead th {\n",
              "        text-align: right;\n",
              "    }\n",
              "</style>\n",
              "<table border=\"1\" class=\"dataframe\">\n",
              "  <thead>\n",
              "    <tr style=\"text-align: right;\">\n",
              "      <th></th>\n",
              "      <th>Appliances</th>\n",
              "      <th>T_out</th>\n",
              "      <th>RH_1</th>\n",
              "      <th>Visibility</th>\n",
              "    </tr>\n",
              "  </thead>\n",
              "  <tbody>\n",
              "    <tr>\n",
              "      <th>0</th>\n",
              "      <td>0.068537</td>\n",
              "      <td>0.570850</td>\n",
              "      <td>0.192740</td>\n",
              "      <td>0.6</td>\n",
              "    </tr>\n",
              "    <tr>\n",
              "      <th>1</th>\n",
              "      <td>0.099345</td>\n",
              "      <td>0.593117</td>\n",
              "      <td>0.166542</td>\n",
              "      <td>0.6</td>\n",
              "    </tr>\n",
              "    <tr>\n",
              "      <th>2</th>\n",
              "      <td>0.121827</td>\n",
              "      <td>0.615385</td>\n",
              "      <td>0.168413</td>\n",
              "      <td>0.6</td>\n",
              "    </tr>\n",
              "    <tr>\n",
              "      <th>3</th>\n",
              "      <td>0.348692</td>\n",
              "      <td>0.637652</td>\n",
              "      <td>0.177933</td>\n",
              "      <td>0.6</td>\n",
              "    </tr>\n",
              "    <tr>\n",
              "      <th>4</th>\n",
              "      <td>0.141340</td>\n",
              "      <td>0.659919</td>\n",
              "      <td>0.165513</td>\n",
              "      <td>0.6</td>\n",
              "    </tr>\n",
              "  </tbody>\n",
              "</table>\n",
              "</div>"
            ],
            "text/plain": [
              "   Appliances     T_out      RH_1  Visibility\n",
              "0    0.068537  0.570850  0.192740         0.6\n",
              "1    0.099345  0.593117  0.166542         0.6\n",
              "2    0.121827  0.615385  0.168413         0.6\n",
              "3    0.348692  0.637652  0.177933         0.6\n",
              "4    0.141340  0.659919  0.165513         0.6"
            ]
          },
          "metadata": {
            "tags": []
          },
          "execution_count": 52
        }
      ]
    },
    {
      "cell_type": "code",
      "metadata": {
        "colab": {
          "base_uri": "https://localhost:8080/",
          "height": 355
        },
        "id": "k0kiKDh15iEg",
        "outputId": "8b2513c6-a25e-4626-998b-af50341294ab"
      },
      "source": [
        "# inverse transform to bring back to original scale\n",
        "df_pred = pd.DataFrame(scaler.inverse_transform(df_pred), columns = list(df_input.columns))\n",
        "df_pred.head(10)"
      ],
      "execution_count": null,
      "outputs": [
        {
          "output_type": "execute_result",
          "data": {
            "text/html": [
              "<div>\n",
              "<style scoped>\n",
              "    .dataframe tbody tr th:only-of-type {\n",
              "        vertical-align: middle;\n",
              "    }\n",
              "\n",
              "    .dataframe tbody tr th {\n",
              "        vertical-align: top;\n",
              "    }\n",
              "\n",
              "    .dataframe thead th {\n",
              "        text-align: right;\n",
              "    }\n",
              "</style>\n",
              "<table border=\"1\" class=\"dataframe\">\n",
              "  <thead>\n",
              "    <tr style=\"text-align: right;\">\n",
              "      <th></th>\n",
              "      <th>Appliances</th>\n",
              "      <th>T_out</th>\n",
              "      <th>RH_1</th>\n",
              "      <th>Visibility</th>\n",
              "    </tr>\n",
              "  </thead>\n",
              "  <tbody>\n",
              "    <tr>\n",
              "      <th>0</th>\n",
              "      <td>83.334124</td>\n",
              "      <td>9.100000</td>\n",
              "      <td>34.600000</td>\n",
              "      <td>40.0</td>\n",
              "    </tr>\n",
              "    <tr>\n",
              "      <th>1</th>\n",
              "      <td>116.299268</td>\n",
              "      <td>9.650000</td>\n",
              "      <td>33.666667</td>\n",
              "      <td>40.0</td>\n",
              "    </tr>\n",
              "    <tr>\n",
              "      <th>2</th>\n",
              "      <td>140.355383</td>\n",
              "      <td>10.200000</td>\n",
              "      <td>33.733333</td>\n",
              "      <td>40.0</td>\n",
              "    </tr>\n",
              "    <tr>\n",
              "      <th>3</th>\n",
              "      <td>383.100121</td>\n",
              "      <td>10.750000</td>\n",
              "      <td>34.072500</td>\n",
              "      <td>40.0</td>\n",
              "    </tr>\n",
              "    <tr>\n",
              "      <th>4</th>\n",
              "      <td>161.234169</td>\n",
              "      <td>11.300000</td>\n",
              "      <td>33.630000</td>\n",
              "      <td>40.0</td>\n",
              "    </tr>\n",
              "    <tr>\n",
              "      <th>5</th>\n",
              "      <td>126.993303</td>\n",
              "      <td>11.633333</td>\n",
              "      <td>32.900000</td>\n",
              "      <td>40.0</td>\n",
              "    </tr>\n",
              "    <tr>\n",
              "      <th>6</th>\n",
              "      <td>85.391107</td>\n",
              "      <td>11.966667</td>\n",
              "      <td>32.760000</td>\n",
              "      <td>40.0</td>\n",
              "    </tr>\n",
              "    <tr>\n",
              "      <th>7</th>\n",
              "      <td>125.116881</td>\n",
              "      <td>12.300000</td>\n",
              "      <td>32.400000</td>\n",
              "      <td>40.0</td>\n",
              "    </tr>\n",
              "    <tr>\n",
              "      <th>8</th>\n",
              "      <td>97.107446</td>\n",
              "      <td>12.633333</td>\n",
              "      <td>32.200000</td>\n",
              "      <td>40.0</td>\n",
              "    </tr>\n",
              "    <tr>\n",
              "      <th>9</th>\n",
              "      <td>98.423604</td>\n",
              "      <td>12.966667</td>\n",
              "      <td>32.290000</td>\n",
              "      <td>40.0</td>\n",
              "    </tr>\n",
              "  </tbody>\n",
              "</table>\n",
              "</div>"
            ],
            "text/plain": [
              "   Appliances      T_out       RH_1  Visibility\n",
              "0   83.334124   9.100000  34.600000        40.0\n",
              "1  116.299268   9.650000  33.666667        40.0\n",
              "2  140.355383  10.200000  33.733333        40.0\n",
              "3  383.100121  10.750000  34.072500        40.0\n",
              "4  161.234169  11.300000  33.630000        40.0\n",
              "5  126.993303  11.633333  32.900000        40.0\n",
              "6   85.391107  11.966667  32.760000        40.0\n",
              "7  125.116881  12.300000  32.400000        40.0\n",
              "8   97.107446  12.633333  32.200000        40.0\n",
              "9   98.423604  12.966667  32.290000        40.0"
            ]
          },
          "metadata": {
            "tags": []
          },
          "execution_count": 53
        }
      ]
    },
    {
      "cell_type": "code",
      "metadata": {
        "colab": {
          "base_uri": "https://localhost:8080/"
        },
        "id": "XErDB0OS7ZcJ",
        "outputId": "a8897716-231a-4e87-b6d5-a2aa4da03beb"
      },
      "source": [
        "df_pred.shape"
      ],
      "execution_count": null,
      "outputs": [
        {
          "output_type": "execute_result",
          "data": {
            "text/plain": [
              "(3227, 4)"
            ]
          },
          "metadata": {
            "tags": []
          },
          "execution_count": 54
        }
      ]
    },
    {
      "cell_type": "code",
      "metadata": {
        "colab": {
          "base_uri": "https://localhost:8080/",
          "height": 320
        },
        "id": "RPTubexX8Yf0",
        "outputId": "96646247-3523-4ecb-c221-d38133237de1"
      },
      "source": [
        "# plotting the actual values against the predicted values\n",
        "actual = scaler.inverse_transform(x_test[win_length:,:])\n",
        "\n",
        "plt.figure(figsize=(15,5))\n",
        "plt.plot(actual[:,0], label = \"Appliances\")\n",
        "plt.plot(df_pred[\"Appliances\"], label = \"Appliances_pred\")\n",
        "plt.legend()\n",
        "plt.show()"
      ],
      "execution_count": null,
      "outputs": [
        {
          "output_type": "display_data",
          "data": {
            "image/png": "[encoded data removed]",
            "text/plain": [
              "<Figure size 1080x360 with 1 Axes>"
            ]
          },
          "metadata": {
            "tags": [],
            "needs_background": "light"
          }
        }
      ]
    },
    {
      "cell_type": "markdown",
      "metadata": {
        "id": "wn_jtbBa-l28"
      },
      "source": [
        "We see that the predictions are very close to the acutal values, but the model misses out in the peack data points."
      ]
    },
    {
      "cell_type": "code",
      "metadata": {
        "id": "Seh5ONwG9AiI"
      },
      "source": [
        ""
      ],
      "execution_count": null,
      "outputs": []
    }
  ]
}